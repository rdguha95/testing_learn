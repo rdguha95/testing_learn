{
 "cells": [
  {
   "cell_type": "code",
   "execution_count": 4,
   "metadata": {},
   "outputs": [
    {
     "name": "stdout",
     "output_type": "stream",
     "text": [
      "3\n"
     ]
    }
   ],
   "source": [
    "import numpy as np\n",
    "\n",
    "class Box:\n",
    "    def __init__(self, box_length, coordinates=None):\n",
    "        self.box_length=box_length\n",
    "        self.coordinates=coordinates\n",
    "\n",
    "    def wrap(self, coordinates,box_length):\n",
    "        if (coordinates != None):\n",
    "            self.coordinates = self.coordinates - self.box_length*round(self.coordinates/self.box_length)\n",
    "\n",
    "    def minimum_image_distance(self, r_i, r_j, box_length):\n",
    "        rij = r_i - r_j\n",
    "        rij = rij - self.box_length * np.round(rij / self.box_length)\n",
    "        rij2 = np.dot(rij, rij)\n",
    "        return rij2\n",
    "\n",
    "    @property\n",
    "    def volume(self):\n",
    "        return self.box_length**3\n",
    "\n",
    "    @property\n",
    "    def num_particles(self):\n",
    "        if (isinstance(self.coordinates,type(None))):\n",
    "            return None\n",
    "        else:\n",
    "            return len(self.coordinates)\n",
    "\n",
    "\n",
    "class MCState:\n",
    "    def __init__(self,box1,cutoff):\n",
    "        self.box1=box1\n",
    "        self.cutoff=cutoff\n",
    "        self.total_pair_energy=0.0\n",
    "        self.tail_correction=0.0\n",
    "        self.total_energy=0.0\n",
    "        self.particle_energy=0.0\n",
    "    \n",
    "    def calculate_total_pair_energy(self):\n",
    "        particle_count = len(box1.coordinates)\n",
    "        for i_particle in range(particle_count):\n",
    "            for j_particle in range(i_particle):\n",
    "                r_i = self.box1.coordinates[i_particle]\n",
    "                r_j = self.box1.coordinates[j_particle]\n",
    "                rij2 = box1.minimum_image_distance(r_i, r_j, box1.box_length)\n",
    "                if rij2 < self.cutoff**2:\n",
    "                    self.total_pair_energy += lennard_jones_potential(rij2)\n",
    "        return self.total_pair_energy\n",
    "\n",
    "    def calculate_tail_correction(self):\n",
    "        sig_by_cutoff3 = np.power(1.0 / self.cutoff, 3)\n",
    "        sig_by_cutoff9 = np.power(sig_by_cutoff3, 3)\n",
    "        self.tail_correction = sig_by_cutoff9 - 3.0 * sig_by_cutoff3\n",
    "        self.tail_correction *= (8.0 / 9.0) * np.pi * len(self.box1.coordinates) * len(self.box1.coordinates)/ self.box1.volume\n",
    "        return self.tail_correction\n",
    "\n",
    "    def calculate_total_energy(self):\n",
    "        self.total_energy=(self.total_pair_energy+self.tail_correction)/len(self.box1.coordinates)\n",
    "        return self.total_energy\n",
    "    \n",
    "    def get_particle_energy(self, i_particle):\n",
    "        i_position = self.box1.coordinates[i_particle]\n",
    "        particle_count = len(self.box1.coordinates)\n",
    "        for j_particle in range(particle_count):\n",
    "            if i_particle != j_particle:\n",
    "                j_position = self.box1.coordinates[j_particle]\n",
    "                rij2 = self.box1.minimum_image_distance(i_position, j_position, self.box1.box_length)\n",
    "                if rij2 < self.cutoff**2:\n",
    "                    e_pair = self.lennard_jones_potential(rij2) \n",
    "                    self.particle_energy += e_pair\n",
    "        return self.particle_energy\n",
    "    \n",
    "    def lennard_jones_potential(self, rij2):\n",
    "        sig_by_r6 = np.power(1 / rij2, 3)\n",
    "        sig_by_r12 = np.power(sig_by_r6, 2)\n",
    "        return 4.0 * (sig_by_r12  - sig_by_r6)\n",
    "    \n",
    "\n",
    "    \n",
    "\n",
    "\n",
    "        \n",
    "\n",
    "\n",
    "    \n",
    "mcs=MCState(Box(3,np.random.rand(30,3)),0.9)\n",
    "\n",
    "print(mcs.box1.box_length)\n",
    "\n"
   ]
  },
  {
   "cell_type": "code",
   "execution_count": 56,
   "metadata": {},
   "outputs": [
    {
     "data": {
      "text/plain": [
       "-142.796001964749"
      ]
     },
     "execution_count": 56,
     "metadata": {},
     "output_type": "execute_result"
    }
   ],
   "source": [
    "mcs.calculate_tail_correction()"
   ]
  },
  {
   "cell_type": "code",
   "execution_count": 39,
   "metadata": {},
   "outputs": [
    {
     "data": {
      "text/plain": [
       "0"
      ]
     },
     "execution_count": 39,
     "metadata": {},
     "output_type": "execute_result"
    }
   ],
   "source": [
    "round(-2/4)"
   ]
  },
  {
   "cell_type": "code",
   "execution_count": 40,
   "metadata": {},
   "outputs": [
    {
     "ename": "TypeError",
     "evalue": "get_particle_energy() missing 1 required positional argument: 'i_particle'",
     "output_type": "error",
     "traceback": [
      "\u001b[0;31m---------------------------------------------------------------------------\u001b[0m",
      "\u001b[0;31mTypeError\u001b[0m                                 Traceback (most recent call last)",
      "\u001b[0;32m<ipython-input-40-9ce8fa076fa7>\u001b[0m in \u001b[0;36m<module>\u001b[0;34m\u001b[0m\n\u001b[0;32m----> 1\u001b[0;31m \u001b[0mmcs\u001b[0m\u001b[0;34m.\u001b[0m\u001b[0mget_particle_energy\u001b[0m\u001b[0;34m(\u001b[0m\u001b[0;34m)\u001b[0m\u001b[0;34m\u001b[0m\u001b[0;34m\u001b[0m\u001b[0m\n\u001b[0m",
      "\u001b[0;31mTypeError\u001b[0m: get_particle_energy() missing 1 required positional argument: 'i_particle'"
     ]
    }
   ],
   "source": [
    "mcs.get_particle_energy()"
   ]
  },
  {
   "cell_type": "code",
   "execution_count": 5,
   "metadata": {},
   "outputs": [
    {
     "data": {
      "text/plain": [
       "939093424.4071064"
      ]
     },
     "execution_count": 5,
     "metadata": {},
     "output_type": "execute_result"
    }
   ],
   "source": [
    "mcs.get_particle_energy(8)"
   ]
  },
  {
   "cell_type": "code",
   "execution_count": 7,
   "metadata": {},
   "outputs": [
    {
     "name": "stdout",
     "output_type": "stream",
     "text": [
      "[[2.49182207 1.897662   0.30476418]\n",
      " [2.82367544 0.35187341 0.57469555]\n",
      " [2.67441685 0.47412009 0.56186957]\n",
      " [2.57285183 2.06300383 0.96989915]\n",
      " [1.59094699 0.91664322 1.95949115]\n",
      " [1.54079542 1.44215275 1.01982666]\n",
      " [2.86778002 1.35016521 2.15151345]\n",
      " [0.65063209 2.04321287 2.36650863]\n",
      " [2.58523814 1.43144559 1.76070074]\n",
      " [2.91112823 0.26018203 2.46109743]]\n"
     ]
    }
   ],
   "source": [
    "class from_file:\n",
    "    def __init__(self, file_name):\n",
    "        self.file_name=file_name\n",
    "\n",
    "    def get_coordinates(self):\n",
    "        coordinates = np.loadtxt(self.file_name, skiprows = 2, usecols=(1, 2, 3))\n",
    "        return coordinates\n",
    "\n",
    "\n",
    "class random_disp:\n",
    "    def __init__(self,num_particles,box_length):\n",
    "        self.num_particles=num_particles\n",
    "        self.box_length=box_length\n",
    "\n",
    "    def get_coordinates(self):\n",
    "        coordinates = np.random.rand(self.num_particles, 3) * self.box_length\n",
    "        return coordinates\n",
    "\n",
    "def generate_initial_coordinates(method, **kwargs):\n",
    "    if (method =='random'):\n",
    "        return random_disp(**kwargs)\n",
    "\n",
    "    elif (method == 'file'):\n",
    "        return from_file(**kwargs)\n",
    "\n",
    "    else:\n",
    "        raise TypeError('Method for generating initial coordinates not recognized')\n",
    "        \n",
    "ini_coord=generate_initial_coordinates(\"random\",num_particles=10,box_length=3)\n",
    "print(ini_coord.get_coordinates())"
   ]
  },
  {
   "cell_type": "code",
   "execution_count": null,
   "metadata": {},
   "outputs": [],
   "source": []
  }
 ],
 "metadata": {
  "kernelspec": {
   "display_name": "Python 3",
   "language": "python",
   "name": "python3"
  },
  "language_info": {
   "codemirror_mode": {
    "name": "ipython",
    "version": 3
   },
   "file_extension": ".py",
   "mimetype": "text/x-python",
   "name": "python",
   "nbconvert_exporter": "python",
   "pygments_lexer": "ipython3",
   "version": "3.7.3"
  }
 },
 "nbformat": 4,
 "nbformat_minor": 2
}
